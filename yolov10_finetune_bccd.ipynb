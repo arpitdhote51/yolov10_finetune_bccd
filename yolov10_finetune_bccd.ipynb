{
  "nbformat": 4,
  "nbformat_minor": 0,
  "metadata": {
    "colab": {
      "provenance": [],
      "authorship_tag": "ABX9TyMxetjnQPxcPNbCdY70zyQ8",
      "include_colab_link": true
    },
    "kernelspec": {
      "name": "python3",
      "display_name": "Python 3"
    },
    "language_info": {
      "name": "python"
    }
  },
  "cells": [
    {
      "cell_type": "markdown",
      "metadata": {
        "id": "view-in-github",
        "colab_type": "text"
      },
      "source": [
        "<a href=\"https://colab.research.google.com/github/arpitdhote51/yolov10_finetune_bccd/blob/main/yolov10_finetune_bccd.ipynb\" target=\"_parent\"><img src=\"https://colab.research.google.com/assets/colab-badge.svg\" alt=\"Open In Colab\"/></a>"
      ]
    },
    {
      "cell_type": "code",
      "execution_count": 60,
      "metadata": {
        "colab": {
          "base_uri": "https://localhost:8080/"
        },
        "id": "AwL2QITcMRap",
        "outputId": "9bfcbeab-266e-4d07-b4a5-c763f008b11c"
      },
      "outputs": [
        {
          "output_type": "stream",
          "name": "stdout",
          "text": [
            "fatal: destination path 'BCCD_Dataset' already exists and is not an empty directory.\n"
          ]
        }
      ],
      "source": [
        "!git clone https://github.com/Shenggan/BCCD_Dataset.git"
      ]
    },
    {
      "cell_type": "code",
      "source": [
        "import os\n",
        "\n",
        "dataset_path = \"/content/BCCD_Dataset/BCCD/images\"\n",
        "\n",
        "# Create missing folders\n",
        "os.makedirs(os.path.join(dataset_path, \"train\"), exist_ok=True)\n",
        "os.makedirs(os.path.join(dataset_path, \"val\"), exist_ok=True)\n",
        "os.makedirs(os.path.join(dataset_path, \"test\"), exist_ok=True)\n",
        "\n",
        "print(\"Dataset structure fixed!\")\n"
      ],
      "metadata": {
        "colab": {
          "base_uri": "https://localhost:8080/"
        },
        "id": "_3GEmRzdWvV7",
        "outputId": "7230670a-9683-4099-976a-77ca6690a047"
      },
      "execution_count": 61,
      "outputs": [
        {
          "output_type": "stream",
          "name": "stdout",
          "text": [
            "Dataset structure fixed!\n"
          ]
        }
      ]
    },
    {
      "cell_type": "code",
      "source": [
        "!cat /content/bccd.yaml\n"
      ],
      "metadata": {
        "colab": {
          "base_uri": "https://localhost:8080/"
        },
        "id": "7ztBTMcWW3m1",
        "outputId": "00cf82cd-1db8-4d91-b5e5-236c60ed3942"
      },
      "execution_count": 62,
      "outputs": [
        {
          "output_type": "stream",
          "name": "stdout",
          "text": [
            "names:\n",
            "- RBC\n",
            "- WBC\n",
            "- Platelets\n",
            "nc: 3\n",
            "path: /content/BCCD_Dataset/BCCD\n",
            "test: images/test\n",
            "train: images/train\n",
            "val: images/val\n"
          ]
        }
      ]
    },
    {
      "cell_type": "code",
      "source": [
        "import yaml\n",
        "\n",
        "dataset_yaml = {\n",
        "    \"path\": \"/content/BCCD_Dataset/BCCD\",\n",
        "    \"train\": \"images/train\",\n",
        "    \"val\": \"images/val\",\n",
        "    \"test\": \"images/test\",\n",
        "    \"nc\": 3,\n",
        "    \"names\": [\"RBC\", \"WBC\", \"Platelets\"]\n",
        "}\n",
        "\n",
        "with open(\"/content/bccd.yaml\", \"w\") as f:\n",
        "    yaml.dump(dataset_yaml, f)\n",
        "\n",
        "print(\" Updated bccd.yaml successfully!\")"
      ],
      "metadata": {
        "colab": {
          "base_uri": "https://localhost:8080/"
        },
        "id": "m9W9IUH3XBeB",
        "outputId": "4a7c619a-79d3-4fc4-bf9b-061befa74515"
      },
      "execution_count": 63,
      "outputs": [
        {
          "output_type": "stream",
          "name": "stdout",
          "text": [
            " Updated bccd.yaml successfully!\n"
          ]
        }
      ]
    },
    {
      "cell_type": "code",
      "source": [
        "import os\n",
        "import shutil\n",
        "\n",
        "dataset_path = \"/content/BCCD_Dataset/BCCD\"\n",
        "image_dir = os.path.join(dataset_path, \"images\")\n",
        "\n",
        "# Create the images/train, images/val, and images/test folders\n",
        "os.makedirs(os.path.join(image_dir, \"train\"), exist_ok=True)\n",
        "os.makedirs(os.path.join(image_dir, \"val\"), exist_ok=True)\n",
        "os.makedirs(os.path.join(image_dir, \"test\"), exist_ok=True)\n",
        "\n",
        "# Move all images to the 'train' folder (since dataset splitting isn't done yet)\n",
        "for file in os.listdir(dataset_path):\n",
        "    if file.endswith((\".jpg\", \".png\", \".jpeg\")):\n",
        "        shutil.move(os.path.join(dataset_path, file), os.path.join(image_dir, \"train\", file))\n",
        "\n",
        "print(\"Dataset structure fixed! Checking files...\")\n",
        "!ls /content/BCCD_Dataset/BCCD/images/train\n"
      ],
      "metadata": {
        "colab": {
          "base_uri": "https://localhost:8080/"
        },
        "id": "BTJm4rOQXWzT",
        "outputId": "142d64af-1b68-4363-820a-a529276eaadf"
      },
      "execution_count": 64,
      "outputs": [
        {
          "output_type": "stream",
          "name": "stdout",
          "text": [
            "Dataset structure fixed! Checking files...\n",
            "BloodImage_00000.jpg  BloodImage_00108.jpg  BloodImage_00218.jpg  BloodImage_00310.jpg\n",
            "BloodImage_00001.jpg  BloodImage_00109.jpg  BloodImage_00219.jpg  BloodImage_00311.jpg\n",
            "BloodImage_00002.jpg  BloodImage_00111.jpg  BloodImage_00220.jpg  BloodImage_00312.jpg\n",
            "BloodImage_00004.jpg  BloodImage_00112.jpg  BloodImage_00221.jpg  BloodImage_00313.jpg\n",
            "BloodImage_00006.jpg  BloodImage_00114.jpg  BloodImage_00223.jpg  BloodImage_00315.jpg\n",
            "BloodImage_00007.jpg  BloodImage_00115.jpg  BloodImage_00225.jpg  BloodImage_00318.jpg\n",
            "BloodImage_00008.jpg  BloodImage_00117.jpg  BloodImage_00226.jpg  BloodImage_00319.jpg\n",
            "BloodImage_00010.jpg  BloodImage_00120.jpg  BloodImage_00227.jpg  BloodImage_00320.jpg\n",
            "BloodImage_00011.jpg  BloodImage_00124.jpg  BloodImage_00228.jpg  BloodImage_00323.jpg\n",
            "BloodImage_00012.jpg  BloodImage_00125.jpg  BloodImage_00229.jpg  BloodImage_00324.jpg\n",
            "BloodImage_00013.jpg  BloodImage_00126.jpg  BloodImage_00230.jpg  BloodImage_00325.jpg\n",
            "BloodImage_00014.jpg  BloodImage_00127.jpg  BloodImage_00231.jpg  BloodImage_00326.jpg\n",
            "BloodImage_00015.jpg  BloodImage_00130.jpg  BloodImage_00232.jpg  BloodImage_00327.jpg\n",
            "BloodImage_00017.jpg  BloodImage_00132.jpg  BloodImage_00233.jpg  BloodImage_00330.jpg\n",
            "BloodImage_00019.jpg  BloodImage_00133.jpg  BloodImage_00234.jpg  BloodImage_00331.jpg\n",
            "BloodImage_00020.jpg  BloodImage_00134.jpg  BloodImage_00235.jpg  BloodImage_00332.jpg\n",
            "BloodImage_00021.jpg  BloodImage_00135.jpg  BloodImage_00237.jpg  BloodImage_00333.jpg\n",
            "BloodImage_00022.jpg  BloodImage_00136.jpg  BloodImage_00239.jpg  BloodImage_00334.jpg\n",
            "BloodImage_00024.jpg  BloodImage_00137.jpg  BloodImage_00242.jpg  BloodImage_00335.jpg\n",
            "BloodImage_00026.jpg  BloodImage_00140.jpg  BloodImage_00244.jpg  BloodImage_00336.jpg\n",
            "BloodImage_00028.jpg  BloodImage_00141.jpg  BloodImage_00245.jpg  BloodImage_00339.jpg\n",
            "BloodImage_00030.jpg  BloodImage_00142.jpg  BloodImage_00246.jpg  BloodImage_00340.jpg\n",
            "BloodImage_00031.jpg  BloodImage_00143.jpg  BloodImage_00247.jpg  BloodImage_00342.jpg\n",
            "BloodImage_00032.jpg  BloodImage_00145.jpg  BloodImage_00248.jpg  BloodImage_00343.jpg\n",
            "BloodImage_00033.jpg  BloodImage_00147.jpg  BloodImage_00249.jpg  BloodImage_00344.jpg\n",
            "BloodImage_00034.jpg  BloodImage_00148.jpg  BloodImage_00250.jpg  BloodImage_00345.jpg\n",
            "BloodImage_00035.jpg  BloodImage_00149.jpg  BloodImage_00253.jpg  BloodImage_00346.jpg\n",
            "BloodImage_00036.jpg  BloodImage_00150.jpg  BloodImage_00254.jpg  BloodImage_00349.jpg\n",
            "BloodImage_00038.jpg  BloodImage_00156.jpg  BloodImage_00255.jpg  BloodImage_00350.jpg\n",
            "BloodImage_00041.jpg  BloodImage_00157.jpg  BloodImage_00256.jpg  BloodImage_00351.jpg\n",
            "BloodImage_00042.jpg  BloodImage_00159.jpg  BloodImage_00257.jpg  BloodImage_00352.jpg\n",
            "BloodImage_00044.jpg  BloodImage_00160.jpg  BloodImage_00258.jpg  BloodImage_00353.jpg\n",
            "BloodImage_00046.jpg  BloodImage_00161.jpg  BloodImage_00261.jpg  BloodImage_00354.jpg\n",
            "BloodImage_00047.jpg  BloodImage_00163.jpg  BloodImage_00262.jpg  BloodImage_00355.jpg\n",
            "BloodImage_00048.jpg  BloodImage_00164.jpg  BloodImage_00263.jpg  BloodImage_00356.jpg\n",
            "BloodImage_00049.jpg  BloodImage_00165.jpg  BloodImage_00264.jpg  BloodImage_00357.jpg\n",
            "BloodImage_00050.jpg  BloodImage_00166.jpg  BloodImage_00265.jpg  BloodImage_00359.jpg\n",
            "BloodImage_00053.jpg  BloodImage_00167.jpg  BloodImage_00266.jpg  BloodImage_00360.jpg\n",
            "BloodImage_00054.jpg  BloodImage_00168.jpg  BloodImage_00267.jpg  BloodImage_00361.jpg\n",
            "BloodImage_00055.jpg  BloodImage_00169.jpg  BloodImage_00268.jpg  BloodImage_00362.jpg\n",
            "BloodImage_00057.jpg  BloodImage_00170.jpg  BloodImage_00269.jpg  BloodImage_00364.jpg\n",
            "BloodImage_00058.jpg  BloodImage_00171.jpg  BloodImage_00271.jpg  BloodImage_00365.jpg\n",
            "BloodImage_00059.jpg  BloodImage_00172.jpg  BloodImage_00272.jpg  BloodImage_00366.jpg\n",
            "BloodImage_00062.jpg  BloodImage_00176.jpg  BloodImage_00274.jpg  BloodImage_00367.jpg\n",
            "BloodImage_00063.jpg  BloodImage_00178.jpg  BloodImage_00275.jpg  BloodImage_00369.jpg\n",
            "BloodImage_00064.jpg  BloodImage_00179.jpg  BloodImage_00276.jpg  BloodImage_00371.jpg\n",
            "BloodImage_00066.jpg  BloodImage_00180.jpg  BloodImage_00277.jpg  BloodImage_00372.jpg\n",
            "BloodImage_00067.jpg  BloodImage_00182.jpg  BloodImage_00278.jpg  BloodImage_00374.jpg\n",
            "BloodImage_00068.jpg  BloodImage_00183.jpg  BloodImage_00281.jpg  BloodImage_00375.jpg\n",
            "BloodImage_00070.jpg  BloodImage_00184.jpg  BloodImage_00282.jpg  BloodImage_00378.jpg\n",
            "BloodImage_00071.jpg  BloodImage_00187.jpg  BloodImage_00283.jpg  BloodImage_00379.jpg\n",
            "BloodImage_00072.jpg  BloodImage_00189.jpg  BloodImage_00284.jpg  BloodImage_00381.jpg\n",
            "BloodImage_00073.jpg  BloodImage_00190.jpg  BloodImage_00285.jpg  BloodImage_00382.jpg\n",
            "BloodImage_00074.jpg  BloodImage_00191.jpg  BloodImage_00287.jpg  BloodImage_00383.jpg\n",
            "BloodImage_00075.jpg  BloodImage_00192.jpg  BloodImage_00288.jpg  BloodImage_00385.jpg\n",
            "BloodImage_00077.jpg  BloodImage_00193.jpg  BloodImage_00289.jpg  BloodImage_00387.jpg\n",
            "BloodImage_00078.jpg  BloodImage_00195.jpg  BloodImage_00290.jpg  BloodImage_00388.jpg\n",
            "BloodImage_00079.jpg  BloodImage_00196.jpg  BloodImage_00291.jpg  BloodImage_00389.jpg\n",
            "BloodImage_00081.jpg  BloodImage_00197.jpg  BloodImage_00292.jpg  BloodImage_00390.jpg\n",
            "BloodImage_00082.jpg  BloodImage_00198.jpg  BloodImage_00293.jpg  BloodImage_00391.jpg\n",
            "BloodImage_00083.jpg  BloodImage_00199.jpg  BloodImage_00294.jpg  BloodImage_00392.jpg\n",
            "BloodImage_00086.jpg  BloodImage_00200.jpg  BloodImage_00295.jpg  BloodImage_00395.jpg\n",
            "BloodImage_00087.jpg  BloodImage_00201.jpg  BloodImage_00296.jpg  BloodImage_00396.jpg\n",
            "BloodImage_00088.jpg  BloodImage_00202.jpg  BloodImage_00297.jpg  BloodImage_00397.jpg\n",
            "BloodImage_00090.jpg  BloodImage_00204.jpg  BloodImage_00298.jpg  BloodImage_00398.jpg\n",
            "BloodImage_00092.jpg  BloodImage_00205.jpg  BloodImage_00299.jpg  BloodImage_00400.jpg\n",
            "BloodImage_00093.jpg  BloodImage_00207.jpg  BloodImage_00301.jpg  BloodImage_00402.jpg\n",
            "BloodImage_00098.jpg  BloodImage_00208.jpg  BloodImage_00302.jpg  BloodImage_00403.jpg\n",
            "BloodImage_00099.jpg  BloodImage_00209.jpg  BloodImage_00303.jpg  BloodImage_00405.jpg\n",
            "BloodImage_00100.jpg  BloodImage_00211.jpg  BloodImage_00304.jpg  BloodImage_00407.jpg\n",
            "BloodImage_00101.jpg  BloodImage_00212.jpg  BloodImage_00307.jpg  BloodImage_00409.jpg\n",
            "BloodImage_00106.jpg  BloodImage_00216.jpg  BloodImage_00308.jpg  BloodImage_00410.jpg\n",
            "BloodImage_00107.jpg  BloodImage_00217.jpg  BloodImage_00309.jpg\n"
          ]
        }
      ]
    },
    {
      "cell_type": "code",
      "source": [
        "#Script for Fine-tuning YOLOv10 on BCCD Dataset\n",
        "\n",
        "#Install Required Libraries\n",
        "!pip install ultralytics\n",
        "!pip install opencv-python\n",
        "!pip install matplotlib\n",
        "\n",
        "\n",
        "\n",
        "#Import Required Libraries\n",
        "from ultralytics import YOLO\n",
        "import torch\n",
        "import cv2\n",
        "import os\n",
        "import matplotlib.pyplot as plt\n",
        "\n",
        "# Load and Prepare the Dataset\n",
        "data_dir = 'BCCD_Dataset/BCCD'\n",
        "# Define augmentation transformations (Rotation, Cropping, etc.)\n",
        "# Implement custom transformations if needed\n",
        "\n",
        "# Load YOLOv10 Model and Fine-tune\n",
        "model = YOLO('yolov10n.pt')  # Load YOLOv10 pretrained model\n",
        "\n",
        "# Train the model\n",
        "model.train(data=\"/content/bccd.yaml\", epochs=10, imgsz=640)\n",
        "# Step 6: Save the Fine-tuned Model\n",
        "import shutil\n",
        "\n",
        "shutil.move(\"runs/detect/train10/weights/best.torchscript\", \"yolov10_bccd.pt\")\n",
        "\n",
        "# print(\"Model exported successfully as yolov10_bccd.pt!\")\n",
        "\n"
      ],
      "metadata": {
        "colab": {
          "base_uri": "https://localhost:8080/"
        },
        "id": "_UGGkX9YWgDP",
        "outputId": "7500e205-6d9b-4faa-b21b-58f09d20f0bd"
      },
      "execution_count": null,
      "outputs": [
        {
          "output_type": "stream",
          "name": "stdout",
          "text": [
            "Requirement already satisfied: ultralytics in /usr/local/lib/python3.11/dist-packages (8.3.92)\n",
            "Requirement already satisfied: numpy<=2.1.1,>=1.23.0 in /usr/local/lib/python3.11/dist-packages (from ultralytics) (2.0.2)\n",
            "Requirement already satisfied: matplotlib>=3.3.0 in /usr/local/lib/python3.11/dist-packages (from ultralytics) (3.10.0)\n",
            "Requirement already satisfied: opencv-python>=4.6.0 in /usr/local/lib/python3.11/dist-packages (from ultralytics) (4.11.0.86)\n",
            "Requirement already satisfied: pillow>=7.1.2 in /usr/local/lib/python3.11/dist-packages (from ultralytics) (11.1.0)\n",
            "Requirement already satisfied: pyyaml>=5.3.1 in /usr/local/lib/python3.11/dist-packages (from ultralytics) (6.0.2)\n",
            "Requirement already satisfied: requests>=2.23.0 in /usr/local/lib/python3.11/dist-packages (from ultralytics) (2.32.3)\n",
            "Requirement already satisfied: scipy>=1.4.1 in /usr/local/lib/python3.11/dist-packages (from ultralytics) (1.14.1)\n",
            "Requirement already satisfied: torch>=1.8.0 in /usr/local/lib/python3.11/dist-packages (from ultralytics) (2.6.0+cu124)\n",
            "Requirement already satisfied: torchvision>=0.9.0 in /usr/local/lib/python3.11/dist-packages (from ultralytics) (0.21.0+cu124)\n",
            "Requirement already satisfied: tqdm>=4.64.0 in /usr/local/lib/python3.11/dist-packages (from ultralytics) (4.67.1)\n",
            "Requirement already satisfied: psutil in /usr/local/lib/python3.11/dist-packages (from ultralytics) (5.9.5)\n",
            "Requirement already satisfied: py-cpuinfo in /usr/local/lib/python3.11/dist-packages (from ultralytics) (9.0.0)\n",
            "Requirement already satisfied: pandas>=1.1.4 in /usr/local/lib/python3.11/dist-packages (from ultralytics) (2.2.2)\n",
            "Requirement already satisfied: seaborn>=0.11.0 in /usr/local/lib/python3.11/dist-packages (from ultralytics) (0.13.2)\n",
            "Requirement already satisfied: ultralytics-thop>=2.0.0 in /usr/local/lib/python3.11/dist-packages (from ultralytics) (2.0.14)\n",
            "Requirement already satisfied: contourpy>=1.0.1 in /usr/local/lib/python3.11/dist-packages (from matplotlib>=3.3.0->ultralytics) (1.3.1)\n",
            "Requirement already satisfied: cycler>=0.10 in /usr/local/lib/python3.11/dist-packages (from matplotlib>=3.3.0->ultralytics) (0.12.1)\n",
            "Requirement already satisfied: fonttools>=4.22.0 in /usr/local/lib/python3.11/dist-packages (from matplotlib>=3.3.0->ultralytics) (4.56.0)\n",
            "Requirement already satisfied: kiwisolver>=1.3.1 in /usr/local/lib/python3.11/dist-packages (from matplotlib>=3.3.0->ultralytics) (1.4.8)\n",
            "Requirement already satisfied: packaging>=20.0 in /usr/local/lib/python3.11/dist-packages (from matplotlib>=3.3.0->ultralytics) (24.2)\n",
            "Requirement already satisfied: pyparsing>=2.3.1 in /usr/local/lib/python3.11/dist-packages (from matplotlib>=3.3.0->ultralytics) (3.2.1)\n",
            "Requirement already satisfied: python-dateutil>=2.7 in /usr/local/lib/python3.11/dist-packages (from matplotlib>=3.3.0->ultralytics) (2.8.2)\n",
            "Requirement already satisfied: pytz>=2020.1 in /usr/local/lib/python3.11/dist-packages (from pandas>=1.1.4->ultralytics) (2025.1)\n",
            "Requirement already satisfied: tzdata>=2022.7 in /usr/local/lib/python3.11/dist-packages (from pandas>=1.1.4->ultralytics) (2025.1)\n",
            "Requirement already satisfied: charset-normalizer<4,>=2 in /usr/local/lib/python3.11/dist-packages (from requests>=2.23.0->ultralytics) (3.4.1)\n",
            "Requirement already satisfied: idna<4,>=2.5 in /usr/local/lib/python3.11/dist-packages (from requests>=2.23.0->ultralytics) (3.10)\n",
            "Requirement already satisfied: urllib3<3,>=1.21.1 in /usr/local/lib/python3.11/dist-packages (from requests>=2.23.0->ultralytics) (2.3.0)\n",
            "Requirement already satisfied: certifi>=2017.4.17 in /usr/local/lib/python3.11/dist-packages (from requests>=2.23.0->ultralytics) (2025.1.31)\n",
            "Requirement already satisfied: filelock in /usr/local/lib/python3.11/dist-packages (from torch>=1.8.0->ultralytics) (3.17.0)\n",
            "Requirement already satisfied: typing-extensions>=4.10.0 in /usr/local/lib/python3.11/dist-packages (from torch>=1.8.0->ultralytics) (4.12.2)\n",
            "Requirement already satisfied: networkx in /usr/local/lib/python3.11/dist-packages (from torch>=1.8.0->ultralytics) (3.4.2)\n",
            "Requirement already satisfied: jinja2 in /usr/local/lib/python3.11/dist-packages (from torch>=1.8.0->ultralytics) (3.1.6)\n",
            "Requirement already satisfied: fsspec in /usr/local/lib/python3.11/dist-packages (from torch>=1.8.0->ultralytics) (2024.10.0)\n",
            "Requirement already satisfied: nvidia-cuda-nvrtc-cu12==12.4.127 in /usr/local/lib/python3.11/dist-packages (from torch>=1.8.0->ultralytics) (12.4.127)\n",
            "Requirement already satisfied: nvidia-cuda-runtime-cu12==12.4.127 in /usr/local/lib/python3.11/dist-packages (from torch>=1.8.0->ultralytics) (12.4.127)\n",
            "Requirement already satisfied: nvidia-cuda-cupti-cu12==12.4.127 in /usr/local/lib/python3.11/dist-packages (from torch>=1.8.0->ultralytics) (12.4.127)\n",
            "Requirement already satisfied: nvidia-cudnn-cu12==9.1.0.70 in /usr/local/lib/python3.11/dist-packages (from torch>=1.8.0->ultralytics) (9.1.0.70)\n",
            "Requirement already satisfied: nvidia-cublas-cu12==12.4.5.8 in /usr/local/lib/python3.11/dist-packages (from torch>=1.8.0->ultralytics) (12.4.5.8)\n",
            "Requirement already satisfied: nvidia-cufft-cu12==11.2.1.3 in /usr/local/lib/python3.11/dist-packages (from torch>=1.8.0->ultralytics) (11.2.1.3)\n",
            "Requirement already satisfied: nvidia-curand-cu12==10.3.5.147 in /usr/local/lib/python3.11/dist-packages (from torch>=1.8.0->ultralytics) (10.3.5.147)\n",
            "Requirement already satisfied: nvidia-cusolver-cu12==11.6.1.9 in /usr/local/lib/python3.11/dist-packages (from torch>=1.8.0->ultralytics) (11.6.1.9)\n",
            "Requirement already satisfied: nvidia-cusparse-cu12==12.3.1.170 in /usr/local/lib/python3.11/dist-packages (from torch>=1.8.0->ultralytics) (12.3.1.170)\n",
            "Requirement already satisfied: nvidia-cusparselt-cu12==0.6.2 in /usr/local/lib/python3.11/dist-packages (from torch>=1.8.0->ultralytics) (0.6.2)\n",
            "Requirement already satisfied: nvidia-nccl-cu12==2.21.5 in /usr/local/lib/python3.11/dist-packages (from torch>=1.8.0->ultralytics) (2.21.5)\n",
            "Requirement already satisfied: nvidia-nvtx-cu12==12.4.127 in /usr/local/lib/python3.11/dist-packages (from torch>=1.8.0->ultralytics) (12.4.127)\n",
            "Requirement already satisfied: nvidia-nvjitlink-cu12==12.4.127 in /usr/local/lib/python3.11/dist-packages (from torch>=1.8.0->ultralytics) (12.4.127)\n",
            "Requirement already satisfied: triton==3.2.0 in /usr/local/lib/python3.11/dist-packages (from torch>=1.8.0->ultralytics) (3.2.0)\n",
            "Requirement already satisfied: sympy==1.13.1 in /usr/local/lib/python3.11/dist-packages (from torch>=1.8.0->ultralytics) (1.13.1)\n",
            "Requirement already satisfied: mpmath<1.4,>=1.1.0 in /usr/local/lib/python3.11/dist-packages (from sympy==1.13.1->torch>=1.8.0->ultralytics) (1.3.0)\n",
            "Requirement already satisfied: six>=1.5 in /usr/local/lib/python3.11/dist-packages (from python-dateutil>=2.7->matplotlib>=3.3.0->ultralytics) (1.17.0)\n",
            "Requirement already satisfied: MarkupSafe>=2.0 in /usr/local/lib/python3.11/dist-packages (from jinja2->torch>=1.8.0->ultralytics) (3.0.2)\n",
            "Requirement already satisfied: opencv-python in /usr/local/lib/python3.11/dist-packages (4.11.0.86)\n",
            "Requirement already satisfied: numpy>=1.21.2 in /usr/local/lib/python3.11/dist-packages (from opencv-python) (2.0.2)\n",
            "Requirement already satisfied: matplotlib in /usr/local/lib/python3.11/dist-packages (3.10.0)\n",
            "Requirement already satisfied: contourpy>=1.0.1 in /usr/local/lib/python3.11/dist-packages (from matplotlib) (1.3.1)\n",
            "Requirement already satisfied: cycler>=0.10 in /usr/local/lib/python3.11/dist-packages (from matplotlib) (0.12.1)\n",
            "Requirement already satisfied: fonttools>=4.22.0 in /usr/local/lib/python3.11/dist-packages (from matplotlib) (4.56.0)\n",
            "Requirement already satisfied: kiwisolver>=1.3.1 in /usr/local/lib/python3.11/dist-packages (from matplotlib) (1.4.8)\n",
            "Requirement already satisfied: numpy>=1.23 in /usr/local/lib/python3.11/dist-packages (from matplotlib) (2.0.2)\n",
            "Requirement already satisfied: packaging>=20.0 in /usr/local/lib/python3.11/dist-packages (from matplotlib) (24.2)\n",
            "Requirement already satisfied: pillow>=8 in /usr/local/lib/python3.11/dist-packages (from matplotlib) (11.1.0)\n",
            "Requirement already satisfied: pyparsing>=2.3.1 in /usr/local/lib/python3.11/dist-packages (from matplotlib) (3.2.1)\n",
            "Requirement already satisfied: python-dateutil>=2.7 in /usr/local/lib/python3.11/dist-packages (from matplotlib) (2.8.2)\n",
            "Requirement already satisfied: six>=1.5 in /usr/local/lib/python3.11/dist-packages (from python-dateutil>=2.7->matplotlib) (1.17.0)\n",
            "Ultralytics 8.3.92 🚀 Python-3.11.11 torch-2.6.0+cu124 CPU (Intel Xeon 2.20GHz)\n",
            "\u001b[34m\u001b[1mengine/trainer: \u001b[0mtask=detect, mode=train, model=yolov10n.pt, data=/content/bccd.yaml, epochs=10, time=None, patience=100, batch=16, imgsz=640, save=True, save_period=-1, cache=False, device=None, workers=8, project=None, name=train13, exist_ok=False, pretrained=True, optimizer=auto, verbose=True, seed=0, deterministic=True, single_cls=False, rect=False, cos_lr=False, close_mosaic=10, resume=False, amp=True, fraction=1.0, profile=False, freeze=None, multi_scale=False, overlap_mask=True, mask_ratio=4, dropout=0.0, val=True, split=val, save_json=False, save_hybrid=False, conf=None, iou=0.7, max_det=300, half=False, dnn=False, plots=True, source=None, vid_stride=1, stream_buffer=False, visualize=False, augment=False, agnostic_nms=False, classes=None, retina_masks=False, embed=None, show=False, save_frames=False, save_txt=False, save_conf=False, save_crop=False, show_labels=True, show_conf=True, show_boxes=True, line_width=None, format=torchscript, keras=False, optimize=False, int8=False, dynamic=False, simplify=True, opset=None, workspace=None, nms=False, lr0=0.01, lrf=0.01, momentum=0.937, weight_decay=0.0005, warmup_epochs=3.0, warmup_momentum=0.8, warmup_bias_lr=0.1, box=7.5, cls=0.5, dfl=1.5, pose=12.0, kobj=1.0, nbs=64, hsv_h=0.015, hsv_s=0.7, hsv_v=0.4, degrees=0.0, translate=0.1, scale=0.5, shear=0.0, perspective=0.0, flipud=0.0, fliplr=0.5, bgr=0.0, mosaic=1.0, mixup=0.0, copy_paste=0.0, copy_paste_mode=flip, auto_augment=randaugment, erasing=0.4, crop_fraction=1.0, cfg=None, tracker=botsort.yaml, save_dir=runs/detect/train13\n",
            "Overriding model.yaml nc=80 with nc=3\n",
            "\n",
            "                   from  n    params  module                                       arguments                     \n",
            "  0                  -1  1       464  ultralytics.nn.modules.conv.Conv             [3, 16, 3, 2]                 \n",
            "  1                  -1  1      4672  ultralytics.nn.modules.conv.Conv             [16, 32, 3, 2]                \n",
            "  2                  -1  1      7360  ultralytics.nn.modules.block.C2f             [32, 32, 1, True]             \n",
            "  3                  -1  1     18560  ultralytics.nn.modules.conv.Conv             [32, 64, 3, 2]                \n",
            "  4                  -1  2     49664  ultralytics.nn.modules.block.C2f             [64, 64, 2, True]             \n",
            "  5                  -1  1      9856  ultralytics.nn.modules.block.SCDown          [64, 128, 3, 2]               \n",
            "  6                  -1  2    197632  ultralytics.nn.modules.block.C2f             [128, 128, 2, True]           \n",
            "  7                  -1  1     36096  ultralytics.nn.modules.block.SCDown          [128, 256, 3, 2]              \n",
            "  8                  -1  1    460288  ultralytics.nn.modules.block.C2f             [256, 256, 1, True]           \n",
            "  9                  -1  1    164608  ultralytics.nn.modules.block.SPPF            [256, 256, 5]                 \n",
            " 10                  -1  1    249728  ultralytics.nn.modules.block.PSA             [256, 256]                    \n",
            " 11                  -1  1         0  torch.nn.modules.upsampling.Upsample         [None, 2, 'nearest']          \n",
            " 12             [-1, 6]  1         0  ultralytics.nn.modules.conv.Concat           [1]                           \n",
            " 13                  -1  1    148224  ultralytics.nn.modules.block.C2f             [384, 128, 1]                 \n",
            " 14                  -1  1         0  torch.nn.modules.upsampling.Upsample         [None, 2, 'nearest']          \n",
            " 15             [-1, 4]  1         0  ultralytics.nn.modules.conv.Concat           [1]                           \n",
            " 16                  -1  1     37248  ultralytics.nn.modules.block.C2f             [192, 64, 1]                  \n",
            " 17                  -1  1     36992  ultralytics.nn.modules.conv.Conv             [64, 64, 3, 2]                \n",
            " 18            [-1, 13]  1         0  ultralytics.nn.modules.conv.Concat           [1]                           \n",
            " 19                  -1  1    123648  ultralytics.nn.modules.block.C2f             [192, 128, 1]                 \n",
            " 20                  -1  1     18048  ultralytics.nn.modules.block.SCDown          [128, 128, 3, 2]              \n",
            " 21            [-1, 10]  1         0  ultralytics.nn.modules.conv.Concat           [1]                           \n",
            " 22                  -1  1    282624  ultralytics.nn.modules.block.C2fCIB          [384, 256, 1, True, True]     \n",
            " 23        [16, 19, 22]  1    862498  ultralytics.nn.modules.head.v10Detect        [3, [64, 128, 256]]           \n",
            "YOLOv10n summary: 223 layers, 2,708,210 parameters, 2,708,194 gradients, 8.4 GFLOPs\n",
            "\n",
            "Transferred 493/595 items from pretrained weights\n",
            "\u001b[34m\u001b[1mTensorBoard: \u001b[0mStart with 'tensorboard --logdir runs/detect/train13', view at http://localhost:6006/\n",
            "Freezing layer 'model.23.dfl.conv.weight'\n"
          ]
        },
        {
          "output_type": "stream",
          "name": "stderr",
          "text": [
            "\u001b[34m\u001b[1mtrain: \u001b[0mScanning /content/BCCD_Dataset/BCCD/labels/train.cache... 291 images, 0 backgrounds, 0 corrupt: 100%|██████████| 291/291 [00:00<?, ?it/s]"
          ]
        },
        {
          "output_type": "stream",
          "name": "stdout",
          "text": [
            "\u001b[34m\u001b[1malbumentations: \u001b[0mBlur(p=0.01, blur_limit=(3, 7)), MedianBlur(p=0.01, blur_limit=(3, 7)), ToGray(p=0.01, num_output_channels=3, method='weighted_average'), CLAHE(p=0.01, clip_limit=(1.0, 4.0), tile_grid_size=(8, 8))\n"
          ]
        },
        {
          "output_type": "stream",
          "name": "stderr",
          "text": [
            "\n",
            "\u001b[34m\u001b[1mval: \u001b[0mScanning /content/BCCD_Dataset/BCCD/labels/val.cache... 36 images, 0 backgrounds, 0 corrupt: 100%|██████████| 36/36 [00:00<?, ?it/s]"
          ]
        },
        {
          "output_type": "stream",
          "name": "stdout",
          "text": [
            "Plotting labels to runs/detect/train13/labels.jpg... \n"
          ]
        },
        {
          "output_type": "stream",
          "name": "stderr",
          "text": [
            "\n"
          ]
        },
        {
          "output_type": "stream",
          "name": "stdout",
          "text": [
            "\u001b[34m\u001b[1moptimizer:\u001b[0m 'optimizer=auto' found, ignoring 'lr0=0.01' and 'momentum=0.937' and determining best 'optimizer', 'lr0' and 'momentum' automatically... \n",
            "\u001b[34m\u001b[1moptimizer:\u001b[0m AdamW(lr=0.001429, momentum=0.9) with parameter groups 95 weight(decay=0.0), 108 weight(decay=0.0005), 107 bias(decay=0.0)\n",
            "\u001b[34m\u001b[1mTensorBoard: \u001b[0mmodel graph visualization added ✅\n",
            "Image sizes 640 train, 640 val\n",
            "Using 0 dataloader workers\n",
            "Logging results to \u001b[1mruns/detect/train13\u001b[0m\n",
            "Starting training for 10 epochs...\n",
            "Closing dataloader mosaic\n",
            "\u001b[34m\u001b[1malbumentations: \u001b[0mBlur(p=0.01, blur_limit=(3, 7)), MedianBlur(p=0.01, blur_limit=(3, 7)), ToGray(p=0.01, num_output_channels=3, method='weighted_average'), CLAHE(p=0.01, clip_limit=(1.0, 4.0), tile_grid_size=(8, 8))\n",
            "\n",
            "      Epoch    GPU_mem   box_loss   cls_loss   dfl_loss  Instances       Size\n"
          ]
        },
        {
          "output_type": "stream",
          "name": "stderr",
          "text": [
            "       1/10         0G      2.423      6.576      2.551         30        640: 100%|██████████| 19/19 [04:38<00:00, 14.66s/it]\n",
            "                 Class     Images  Instances      Box(P          R      mAP50  mAP50-95): 100%|██████████| 2/2 [00:10<00:00,  5.07s/it]"
          ]
        },
        {
          "output_type": "stream",
          "name": "stdout",
          "text": [
            "                   all         36        475     0.0207       0.65      0.195      0.117\n"
          ]
        },
        {
          "output_type": "stream",
          "name": "stderr",
          "text": [
            "\n"
          ]
        },
        {
          "output_type": "stream",
          "name": "stdout",
          "text": [
            "\n",
            "      Epoch    GPU_mem   box_loss   cls_loss   dfl_loss  Instances       Size\n"
          ]
        },
        {
          "output_type": "stream",
          "name": "stderr",
          "text": [
            "       2/10         0G      2.307      4.088      2.369         39        640: 100%|██████████| 19/19 [04:25<00:00, 14.00s/it]\n",
            "                 Class     Images  Instances      Box(P          R      mAP50  mAP50-95): 100%|██████████| 2/2 [00:10<00:00,  5.12s/it]"
          ]
        },
        {
          "output_type": "stream",
          "name": "stdout",
          "text": [
            "                   all         36        475     0.0213      0.653      0.337      0.246\n"
          ]
        },
        {
          "output_type": "stream",
          "name": "stderr",
          "text": [
            "\n"
          ]
        },
        {
          "output_type": "stream",
          "name": "stdout",
          "text": [
            "\n",
            "      Epoch    GPU_mem   box_loss   cls_loss   dfl_loss  Instances       Size\n"
          ]
        },
        {
          "output_type": "stream",
          "name": "stderr",
          "text": [
            "       3/10         0G        2.3      3.203       2.36         44        640: 100%|██████████| 19/19 [04:29<00:00, 14.19s/it]\n",
            "                 Class     Images  Instances      Box(P          R      mAP50  mAP50-95): 100%|██████████| 2/2 [00:10<00:00,  5.02s/it]"
          ]
        },
        {
          "output_type": "stream",
          "name": "stdout",
          "text": [
            "                   all         36        475     0.0225       0.65      0.397      0.274\n"
          ]
        },
        {
          "output_type": "stream",
          "name": "stderr",
          "text": [
            "\n"
          ]
        },
        {
          "output_type": "stream",
          "name": "stdout",
          "text": [
            "\n",
            "      Epoch    GPU_mem   box_loss   cls_loss   dfl_loss  Instances       Size\n"
          ]
        },
        {
          "output_type": "stream",
          "name": "stderr",
          "text": [
            "       4/10         0G      2.258      2.867       2.34         44        640: 100%|██████████| 19/19 [04:24<00:00, 13.93s/it]\n",
            "                 Class     Images  Instances      Box(P          R      mAP50  mAP50-95): 100%|██████████| 2/2 [00:10<00:00,  5.08s/it]"
          ]
        },
        {
          "output_type": "stream",
          "name": "stdout",
          "text": [
            "                   all         36        475      0.871        0.2      0.444      0.333\n"
          ]
        },
        {
          "output_type": "stream",
          "name": "stderr",
          "text": [
            "\n"
          ]
        },
        {
          "output_type": "stream",
          "name": "stdout",
          "text": [
            "\n",
            "      Epoch    GPU_mem   box_loss   cls_loss   dfl_loss  Instances       Size\n"
          ]
        },
        {
          "output_type": "stream",
          "name": "stderr",
          "text": [
            "       5/10         0G      2.197      2.658      2.308         42        640: 100%|██████████| 19/19 [04:22<00:00, 13.80s/it]\n",
            "                 Class     Images  Instances      Box(P          R      mAP50  mAP50-95): 100%|██████████| 2/2 [00:10<00:00,  5.12s/it]"
          ]
        },
        {
          "output_type": "stream",
          "name": "stdout",
          "text": [
            "                   all         36        475      0.834      0.467      0.663      0.466\n"
          ]
        },
        {
          "output_type": "stream",
          "name": "stderr",
          "text": [
            "\n"
          ]
        },
        {
          "output_type": "stream",
          "name": "stdout",
          "text": [
            "\n",
            "      Epoch    GPU_mem   box_loss   cls_loss   dfl_loss  Instances       Size\n"
          ]
        },
        {
          "output_type": "stream",
          "name": "stderr",
          "text": [
            "       6/10         0G      2.122      2.492      2.232        229        640:  21%|██        | 4/19 [00:57<03:35, 14.34s/it]"
          ]
        }
      ]
    },
    {
      "cell_type": "code",
      "source": [
        "model.export(format='torchscript')\n"
      ],
      "metadata": {
        "id": "uLOCpAUzqii9"
      },
      "execution_count": null,
      "outputs": []
    },
    {
      "cell_type": "code",
      "source": [
        "from ultralytics import YOLO\n",
        "import cv2\n",
        "import matplotlib.pyplot as plt\n",
        "\n",
        "# Load the trained YOLO model\n",
        "model = YOLO(\"runs/detect/train10/weights/best.pt\")  # Ensure this path is correct\n",
        "\n",
        "# Select a test image from the dataset\n",
        "image_path = \"/content/BCCD_Dataset/BCCD/images/test/BloodImage_00009.jpg\"  # Replace with any valid image from Step 1\n",
        "\n",
        "# Run inference\n",
        "results = model(image_path)  # This returns a LIST of results\n",
        "\n",
        "# Access the first result\n",
        "result = results[0]  # Get the first result from the list\n",
        "\n",
        "# Display the image with bounding boxes\n",
        "result.show()\n",
        "\n",
        "# Save the output image\n",
        "result.save(filename=\"/content/output.jpg\")\n",
        "\n",
        "# Show the saved image using OpenCV\n",
        "img = cv2.imread(\"/content/output.jpg\")\n",
        "plt.imshow(cv2.cvtColor(img, cv2.COLOR_BGR2RGB))\n",
        "plt.axis(\"off\")\n",
        "plt.show()"
      ],
      "metadata": {
        "id": "9XHWdUqVrBf5"
      },
      "execution_count": null,
      "outputs": []
    },
    {
      "cell_type": "code",
      "source": [
        "!ls /content/BCCD_Dataset/BCCD/JPEGImages | head -5\n"
      ],
      "metadata": {
        "id": "-6jJiopxseC6"
      },
      "execution_count": null,
      "outputs": []
    },
    {
      "cell_type": "code",
      "source": [
        "from ultralytics import YOLO\n",
        "\n",
        "# Load trained model\n",
        "model = YOLO(\"runs/detect/train10/weights/best.pt\")\n",
        "\n",
        "# Export model to TorchScript format\n",
        "model.export(format=\"torchscript\")\n",
        "\n",
        "print(\"Model successfully exported to TorchScript!\")\n",
        "import shutil\n",
        "\n",
        "shutil.move(\"runs/detect/train10/weights/best.torchscript\", \"yolov10_bccd.pt\")\n",
        "\n",
        "print(\"Model saved as yolov10_bccd.pt!\")\n"
      ],
      "metadata": {
        "id": "o8OR-3GFqQ0X"
      },
      "execution_count": null,
      "outputs": []
    },
    {
      "cell_type": "code",
      "source": [
        "import os\n",
        "import xml.etree.ElementTree as ET\n",
        "\n",
        "# Define class labels\n",
        "class_names = [\"RBC\", \"WBC\", \"Platelets\"]\n",
        "\n",
        "# Paths\n",
        "dataset_path = \"/content/BCCD_Dataset/BCCD\"\n",
        "annotations_path = os.path.join(dataset_path, \"Annotations\")\n",
        "images_path = os.path.join(dataset_path, \"JPEGImages\")\n",
        "labels_path = os.path.join(dataset_path, \"labels\")\n",
        "\n",
        "# Create labels folder\n",
        "os.makedirs(labels_path, exist_ok=True)\n",
        "\n",
        "# Convert XML to YOLO TXT\n",
        "for xml_file in os.listdir(annotations_path):\n",
        "    if not xml_file.endswith(\".xml\"):\n",
        "        continue\n",
        "\n",
        "    tree = ET.parse(os.path.join(annotations_path, xml_file))\n",
        "    root = tree.getroot()\n",
        "\n",
        "    image_name = root.find(\"filename\").text\n",
        "    label_file = os.path.join(labels_path, image_name.replace(\".jpg\", \".txt\"))\n",
        "\n",
        "    with open(label_file, \"w\") as f:\n",
        "        for obj in root.findall(\"object\"):\n",
        "            class_name = obj.find(\"name\").text\n",
        "            if class_name not in class_names:\n",
        "                continue  # Ignore unknown classes\n",
        "\n",
        "            class_id = class_names.index(class_name)\n",
        "            bbox = obj.find(\"bndbox\")\n",
        "            xmin = int(bbox.find(\"xmin\").text)\n",
        "            ymin = int(bbox.find(\"ymin\").text)\n",
        "            xmax = int(bbox.find(\"xmax\").text)\n",
        "            ymax = int(bbox.find(\"ymax\").text)\n",
        "\n",
        "            # Convert to YOLO format (x_center, y_center, width, height)\n",
        "            img_width = int(root.find(\"size/width\").text)\n",
        "            img_height = int(root.find(\"size/height\").text)\n",
        "            x_center = (xmin + xmax) / 2 / img_width\n",
        "            y_center = (ymin + ymax) / 2 / img_height\n",
        "            width = (xmax - xmin) / img_width\n",
        "            height = (ymax - ymin) / img_height\n",
        "\n",
        "            f.write(f\"{class_id} {x_center} {y_center} {width} {height}\\n\")\n",
        "\n",
        "print(\" Annotations converted to YOLO format!\")\n"
      ],
      "metadata": {
        "id": "_gLop4yERue4"
      },
      "execution_count": null,
      "outputs": []
    },
    {
      "cell_type": "code",
      "source": [
        "import glob\n",
        "import random\n",
        "import shutil\n",
        "\n",
        "# Paths\n",
        "image_dir = \"/content/BCCD_Dataset/BCCD/JPEGImages\"\n",
        "label_dir = \"/content/BCCD_Dataset/BCCD/labels\"\n",
        "output_dir = \"/content/BCCD_Dataset/BCCD/images\"\n",
        "\n",
        "# Create output folders\n",
        "for split in [\"train\", \"val\", \"test\"]:\n",
        "    os.makedirs(os.path.join(output_dir, split), exist_ok=True)\n",
        "    os.makedirs(os.path.join(label_dir, split), exist_ok=True)\n",
        "\n",
        "# Get all images\n",
        "all_images = glob.glob(os.path.join(image_dir, \"*.jpg\"))\n",
        "random.shuffle(all_images)\n",
        "\n",
        "# Split dataset\n",
        "train_split = int(0.8 * len(all_images))\n",
        "val_split = int(0.9 * len(all_images))\n",
        "\n",
        "train_images = all_images[:train_split]\n",
        "val_images = all_images[train_split:val_split]\n",
        "test_images = all_images[val_split:]\n",
        "\n",
        "# Function to move images & labels\n",
        "def move_files(file_list, split):\n",
        "    for img_path in file_list:\n",
        "        file_name = os.path.basename(img_path)\n",
        "        label_name = file_name.replace(\".jpg\", \".txt\")\n",
        "\n",
        "        shutil.move(img_path, os.path.join(output_dir, split, file_name))\n",
        "        shutil.move(os.path.join(label_dir, label_name), os.path.join(label_dir, split, label_name))\n",
        "\n",
        "move_files(train_images, \"train\")\n",
        "move_files(val_images, \"val\")\n",
        "move_files(test_images, \"test\")\n",
        "\n",
        "print(\"Dataset split into train/val/test!\")\n"
      ],
      "metadata": {
        "id": "zux6_NuoR3zf"
      },
      "execution_count": null,
      "outputs": []
    },
    {
      "cell_type": "code",
      "source": [],
      "metadata": {
        "id": "GKGS1emlXL6y"
      },
      "execution_count": null,
      "outputs": []
    }
  ]
}